{
 "cells": [
  {
   "cell_type": "code",
   "execution_count": null,
   "metadata": {},
   "outputs": [],
   "source": [
    "import pandas as pd\n",
    "import matplotlib.pyplot as plt\n",
    "\n",
    "# Sample dataset\n",
    "data = {\n",
    "    'Name': ['Alice', 'Bob', 'Charlie', 'David', 'Eva', 'Frank'],\n",
    "    'Gender': ['Female', 'Male', 'Male', 'Male', 'Female', 'Male'],  # Qualitative\n",
    "    'Department': ['HR', 'IT', 'Finance', 'IT', 'HR', 'Finance'],    # Qualitative\n",
    "    'Age': [25, 30, 45, 28, 35, 40],                                 # Quantitative\n",
    "    'Salary': [40000, 55000, 75000, 50000, 62000, 68000]             # Quantitative\n",
    "}\n",
    "\n",
    "df = pd.DataFrame(data)\n",
    "df.head()"
   ]
  },
  {
   "cell_type": "code",
   "execution_count": null,
   "metadata": {},
   "outputs": [],
   "source": [
    "# --- QUALITATIVE ANALYSIS ---\n",
    "print(\"Qualitative Analysis:\")\n",
    "print(df['Gender'].value_counts())      # Frequency of categories\n",
    "print(df['Department'].value_counts())  # Frequency of departments\n",
    "\n",
    "# Bar chart for Gender distribution\n",
    "df['Gender'].value_counts().plot(kind='bar', color=['pink', 'lightblue'])\n",
    "plt.title(\"Gender Distribution\")\n",
    "plt.xlabel(\"Gender\")\n",
    "plt.ylabel(\"Count\")\n",
    "plt.show()"
   ]
  },
  {
   "cell_type": "code",
   "execution_count": null,
   "metadata": {},
   "outputs": [],
   "source": [
    "# --- QUANTITATIVE ANALYSIS ---\n",
    "print(\"\\nQuantitative Analysis:\")\n",
    "print(df[['Age', 'Salary']].describe())  # Summary statistics\n",
    "\n",
    "# Histogram for Age\n",
    "df['Age'].plot(kind='hist', bins=5, color='skyblue', edgecolor='black')\n",
    "plt.title(\"Age Distribution\")\n",
    "plt.xlabel(\"Age\")\n",
    "plt.ylabel(\"Frequency\")\n",
    "plt.show()\n",
    "\n",
    "# Scatter plot: Age vs Salary\n",
    "plt.scatter(df['Age'], df['Salary'], color='green')\n",
    "plt.title(\"Age vs Salary\")\n",
    "plt.xlabel(\"Age\")\n",
    "plt.ylabel(\"Salary\")\n",
    "plt.show()"
   ]
  }
 ],
 "metadata": {
  "kernelspec": {
   "display_name": "Python 3.10.2 64-bit",
   "language": "python",
   "name": "python3"
  },
  "language_info": {
   "name": "python",
   "version": "3.10.2"
  },
  "orig_nbformat": 4,
  "vscode": {
   "interpreter": {
    "hash": "aee8b7b246df8f9039afb4144a1f6fd8d2ca17a180786b69acc140d282b71a49"
   }
  }
 },
 "nbformat": 4,
 "nbformat_minor": 2
}
