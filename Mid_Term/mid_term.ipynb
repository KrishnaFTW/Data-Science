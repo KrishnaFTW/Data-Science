{
 "cells": [
  {
   "cell_type": "code",
   "execution_count": null,
   "id": "c6df0fe0",
   "metadata": {},
   "outputs": [],
   "source": []
  },
  {
   "cell_type": "code",
   "execution_count": null,
   "id": "dedd1e29",
   "metadata": {},
   "outputs": [],
   "source": []
  },
  {
   "cell_type": "code",
   "execution_count": null,
   "id": "a1cb461e",
   "metadata": {},
   "outputs": [],
   "source": []
  },
  {
   "cell_type": "code",
   "execution_count": null,
   "id": "bbe6305c",
   "metadata": {},
   "outputs": [],
   "source": [
    "# Assignment: NumPy Arrays and Functions\n",
    "# Ranode Krishana vilas\n",
    "#Roll No: 158\n",
    "#\n",
    "import numpy as np"
   ]
  },
  {
   "cell_type": "code",
   "execution_count": 2,
   "id": "f57abfcb",
   "metadata": {},
   "outputs": [
    {
     "name": "stdout",
     "output_type": "stream",
     "text": [
      "1D Array: [0 1 2 3 4 5 6 7 8 9]\n",
      "\n",
      "2D Array:\n",
      " [[1 2 3]\n",
      " [4 5 6]\n",
      " [7 8 9]]\n",
      "\n",
      "3D Array:\n",
      " [[[28 32 20 20]\n",
      "  [33 45 49 33]\n",
      "  [12 31 11 33]]\n",
      "\n",
      " [[39 47 11 30]\n",
      "  [42 21 31 34]\n",
      "  [36 37 25 24]]]\n"
     ]
    }
   ],
   "source": [
    "# -----------------------------------------------------------\n",
    "# Q1. Basic Array Creation\n",
    "# -----------------------------------------------------------\n",
    "\n",
    "# 1D Array\n",
    "arr1 = np.arange(10)\n",
    "print(\"1D Array:\", arr1)\n",
    "\n",
    "# 2D Array (3x3)\n",
    "arr2 = np.arange(1, 10).reshape(3, 3)\n",
    "print(\"\\n2D Array:\\n\", arr2)\n",
    "\n",
    "# 3D Array (2x3x4) with random integers\n",
    "arr3 = np.random.randint(10, 50, (2, 3, 4))\n",
    "print(\"\\n3D Array:\\n\", arr3)"
   ]
  },
  {
   "cell_type": "code",
   "execution_count": 3,
   "id": "ebe417d2",
   "metadata": {},
   "outputs": [
    {
     "name": "stdout",
     "output_type": "stream",
     "text": [
      "\n",
      "Array Attributes of arr2:\n",
      "Shape: (3, 3)\n",
      "Dimension: 2\n",
      "Size: 9\n",
      "Data Type: int64\n"
     ]
    }
   ],
   "source": [
    "# -----------------------------------------------------------\n",
    "# Q2. Array Attributes\n",
    "# -----------------------------------------------------------\n",
    "\n",
    "print(\"\\nArray Attributes of arr2:\")\n",
    "print(\"Shape:\", arr2.shape)\n",
    "print(\"Dimension:\", arr2.ndim)\n",
    "print(\"Size:\", arr2.size)\n",
    "print(\"Data Type:\", arr2.dtype)"
   ]
  },
  {
   "cell_type": "code",
   "execution_count": 4,
   "id": "fd13f2c5",
   "metadata": {},
   "outputs": [
    {
     "name": "stdout",
     "output_type": "stream",
     "text": [
      "\n",
      "First 3 elements: [10 20 30]\n",
      "Second row: [4 5 6]\n",
      "Last column: [3 6 9]\n"
     ]
    }
   ],
   "source": [
    "# -----------------------------------------------------------\n",
    "# Q3. Indexing & Slicing\n",
    "# -----------------------------------------------------------\n",
    "\n",
    "a = np.array([10, 20, 30, 40, 50])\n",
    "print(\"\\nFirst 3 elements:\", a[:3])\n",
    "\n",
    "b = np.array([[1, 2, 3],\n",
    "              [4, 5, 6],\n",
    "              [7, 8, 9]])\n",
    "\n",
    "print(\"Second row:\", b[1])\n",
    "print(\"Last column:\", b[:, -1])\n"
   ]
  },
  {
   "cell_type": "code",
   "execution_count": 5,
   "id": "240d82f3",
   "metadata": {},
   "outputs": [
    {
     "name": "stdout",
     "output_type": "stream",
     "text": [
      "\n",
      "Addition: [5 7 9]\n",
      "Subtraction: [-3 -3 -3]\n",
      "Multiplication: [ 4 10 18]\n",
      "Division: [0.25 0.4  0.5 ]\n",
      "Square Root: [1.         1.41421356 1.73205081]\n",
      "Exponential: [ 2.71828183  7.3890561  20.08553692]\n",
      "Sine: [0.84147098 0.90929743 0.14112001]\n"
     ]
    }
   ],
   "source": [
    "# -----------------------------------------------------------\n",
    "# Q4. Mathematical Operations\n",
    "# -----------------------------------------------------------\n",
    "\n",
    "a = np.array([1, 2, 3])\n",
    "b = np.array([4, 5, 6])\n",
    "\n",
    "print(\"\\nAddition:\", a + b)\n",
    "print(\"Subtraction:\", a - b)\n",
    "print(\"Multiplication:\", a * b)\n",
    "print(\"Division:\", a / b)\n",
    "\n",
    "print(\"Square Root:\", np.sqrt(a))\n",
    "print(\"Exponential:\", np.exp(a))\n",
    "print(\"Sine:\", np.sin(a))"
   ]
  },
  {
   "cell_type": "code",
   "execution_count": 6,
   "id": "8d387248",
   "metadata": {},
   "outputs": [
    {
     "name": "stdout",
     "output_type": "stream",
     "text": [
      "\n",
      "Even numbers 2-20: [ 2  4  6  8 10 12 14 16 18 20]\n",
      "10 evenly spaced numbers 0-1: [0.         0.11111111 0.22222222 0.33333333 0.44444444 0.55555556\n",
      " 0.66666667 0.77777778 0.88888889 1.        ]\n",
      "Identity Matrix:\n",
      " [[1. 0. 0. 0.]\n",
      " [0. 1. 0. 0.]\n",
      " [0. 0. 1. 0.]\n",
      " [0. 0. 0. 1.]]\n"
     ]
    }
   ],
   "source": [
    "# -----------------------------------------------------------\n",
    "# Q5. Array Functions\n",
    "# -----------------------------------------------------------\n",
    "\n",
    "print(\"\\nEven numbers 2-20:\", np.arange(2, 21, 2))\n",
    "print(\"10 evenly spaced numbers 0-1:\", np.linspace(0, 1, 10))\n",
    "print(\"Identity Matrix:\\n\", np.eye(4))"
   ]
  },
  {
   "cell_type": "code",
   "execution_count": 7,
   "id": "74372ced",
   "metadata": {},
   "outputs": [
    {
     "name": "stdout",
     "output_type": "stream",
     "text": [
      "\n",
      "Sum: 150\n",
      "Mean: 30.0\n",
      "Median: 30.0\n",
      "Standard Deviation: 14.142135623730951\n",
      "Variance: 200.0\n",
      "Max value: 50 at index 4\n",
      "Min value: 10 at index 0\n"
     ]
    }
   ],
   "source": [
    "# -----------------------------------------------------------\n",
    "# Q6. Aggregate Functions\n",
    "# -----------------------------------------------------------\n",
    "\n",
    "arr = np.array([10, 20, 30, 40, 50])\n",
    "print(\"\\nSum:\", np.sum(arr))\n",
    "print(\"Mean:\", np.mean(arr))\n",
    "print(\"Median:\", np.median(arr))\n",
    "print(\"Standard Deviation:\", np.std(arr))\n",
    "print(\"Variance:\", np.var(arr))\n",
    "print(\"Max value:\", np.max(arr), \"at index\", np.argmax(arr))\n",
    "print(\"Min value:\", np.min(arr), \"at index\", np.argmin(arr))\n"
   ]
  },
  {
   "cell_type": "code",
   "execution_count": 8,
   "id": "a8fe5682",
   "metadata": {},
   "outputs": [
    {
     "name": "stdout",
     "output_type": "stream",
     "text": [
      "\n",
      "Reshaped 3x4:\n",
      " [[ 1  2  3  4]\n",
      " [ 5  6  7  8]\n",
      " [ 9 10 11 12]]\n",
      "Flattened: [ 1  2  3  4  5  6  7  8  9 10 11 12]\n"
     ]
    }
   ],
   "source": [
    "# -----------------------------------------------------------\n",
    "# Q7. Reshaping & Flattening\n",
    "# -----------------------------------------------------------\n",
    "\n",
    "arr = np.arange(1, 13)\n",
    "reshaped = arr.reshape(3, 4)\n",
    "print(\"\\nReshaped 3x4:\\n\", reshaped)\n",
    "print(\"Flattened:\", reshaped.flatten())"
   ]
  },
  {
   "cell_type": "code",
   "execution_count": 9,
   "id": "a6683246",
   "metadata": {},
   "outputs": [
    {
     "name": "stdout",
     "output_type": "stream",
     "text": [
      "\n",
      "Vertical Stack:\n",
      " [[1 2]\n",
      " [3 4]\n",
      " [5 6]\n",
      " [7 8]]\n",
      "Horizontal Stack:\n",
      " [[1 2 5 6]\n",
      " [3 4 7 8]]\n"
     ]
    }
   ],
   "source": [
    "# -----------------------------------------------------------\n",
    "# Q8. Stacking\n",
    "# -----------------------------------------------------------\n",
    "\n",
    "a = np.array([[1, 2], [3, 4]])\n",
    "b = np.array([[5, 6], [7, 8]])\n",
    "\n",
    "print(\"\\nVertical Stack:\\n\", np.vstack((a, b)))\n",
    "print(\"Horizontal Stack:\\n\", np.hstack((a, b)))"
   ]
  },
  {
   "cell_type": "code",
   "execution_count": 10,
   "id": "d5c9d7b1",
   "metadata": {},
   "outputs": [
    {
     "name": "stdout",
     "output_type": "stream",
     "text": [
      "\n",
      "5 Random floats between 0 and 1: [0.45606998 0.78517596 0.19967378 0.51423444 0.59241457]\n",
      "4x4 Random integers 1-100:\n",
      " [[ 3 51  7 21]\n",
      " [73 39 18  4]\n",
      " [89 60 14  9]\n",
      " [90 53  2 84]]\n",
      "Reproducible Random Numbers: [0.37454012 0.95071431 0.73199394 0.59865848 0.15601864]\n"
     ]
    }
   ],
   "source": [
    "# -----------------------------------------------------------\n",
    "# Q9. Random Numbers\n",
    "# -----------------------------------------------------------\n",
    "\n",
    "print(\"\\n5 Random floats between 0 and 1:\", np.random.rand(5))\n",
    "print(\"4x4 Random integers 1-100:\\n\", np.random.randint(1, 101, (4, 4)))\n",
    "\n",
    "np.random.seed(42)\n",
    "print(\"Reproducible Random Numbers:\", np.random.rand(5))"
   ]
  },
  {
   "cell_type": "code",
   "execution_count": 12,
   "id": "915f27d1",
   "metadata": {},
   "outputs": [
    {
     "name": "stdout",
     "output_type": "stream",
     "text": [
      "\n",
      "Euclidean Distance: 5.0\n",
      "Normalized Array: [0.06666667 0.13333333 0.2        0.26666667 0.33333333]\n",
      "Top 3 Scores: [92 89 85]\n"
     ]
    }
   ],
   "source": [
    "# -----------------------------------------------------------\n",
    "# Q10. Application-Based\n",
    "# -----------------------------------------------------------\n",
    "\n",
    "# Euclidean Distance\n",
    "p1 = np.array([3, 4])\n",
    "p2 = np.array([0, 0])\n",
    "dist = np.linalg.norm(p1 - p2)\n",
    "print(\"\\nEuclidean Distance:\", dist)\n",
    "\n",
    "# Normalize Array\n",
    "arr = np.array([1, 2, 3, 4, 5])\n",
    "normalized = arr / np.sum(arr)\n",
    "print(\"Normalized Array:\", normalized)\n",
    "\n",
    "# Top 3 Scores\n",
    "marks = np.array([56, 89, 74, 92, 67, 85])\n",
    "top3 = np.sort(marks)[-3:][::-1]\n",
    "print(\"Top 3 Scores:\", top3)\n"
   ]
  }
 ],
 "metadata": {
  "kernelspec": {
   "display_name": "Python 3",
   "language": "python",
   "name": "python3"
  },
  "language_info": {
   "codemirror_mode": {
    "name": "ipython",
    "version": 3
   },
   "file_extension": ".py",
   "mimetype": "text/x-python",
   "name": "python",
   "nbconvert_exporter": "python",
   "pygments_lexer": "ipython3",
   "version": "3.13.6"
  }
 },
 "nbformat": 4,
 "nbformat_minor": 5
}
